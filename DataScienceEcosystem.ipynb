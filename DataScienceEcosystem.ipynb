{
 "cells": [
  {
   "cell_type": "markdown",
   "id": "0c511ffc-56d8-4e7f-94e5-7cfbea0dc066",
   "metadata": {},
   "source": [
    "# Data Science Ecosystem"
   ]
  },
  {
   "cell_type": "markdown",
   "id": "054f6db7-92b6-47b4-85d2-6b92a439de37",
   "metadata": {
    "tags": []
   },
   "source": [
    "## Author \n",
    "Debarshi Kundu"
   ]
  },
  {
   "cell_type": "markdown",
   "id": "edf0ab1e-6491-4edc-a4e1-28c2796e113a",
   "metadata": {},
   "source": [
    "## In this notebook, Data Science Tools and Ecosystem are summarized."
   ]
  },
  {
   "cell_type": "markdown",
   "id": "bab36198-4657-4f20-8614-f42ed69bd2be",
   "metadata": {},
   "source": [
    "**Objectives:**\n",
    "- Popular Languages for Data Science\n",
    "- Common Libraries for Data Science\n",
    "- Data Science Tools\n",
    "- Arithmetic Expressions in Python"
   ]
  },
  {
   "cell_type": "markdown",
   "id": "e2a4dc63-faf0-40d4-8644-0b6415d7672b",
   "metadata": {},
   "source": [
    "Some of the popular languages that Data Scientists use are:\n",
    "\n",
    "1. Python\n",
    "2. R\n",
    "3. Java\n",
    "4. C++\n",
    "5. JavaScript"
   ]
  },
  {
   "cell_type": "markdown",
   "id": "d9019cfa-7e59-4c88-8438-749c21460704",
   "metadata": {},
   "source": [
    "Some of the commonly used libraries used by Data Scientists include:\n",
    "\n",
    "1. ggplot\n",
    "2. matplotlib\n",
    "3. SciPy \n",
    "4. SciKitLearn\n",
    "5. TensorFlow"
   ]
  },
  {
   "cell_type": "markdown",
   "id": "81914364-83b6-4e65-b391-83b6cdb5ab91",
   "metadata": {},
   "source": [
    "| Data Science Tools | \n",
    "| -------------| \n",
    "| Git | \n",
    "| R | \n",
    "| Machine Learning | "
   ]
  },
  {
   "cell_type": "markdown",
   "id": "a7c38bec-a6b4-4c27-9042-62b51b97145e",
   "metadata": {},
   "source": [
    "### Below are a few examples of evaluating arithmetic expressions in Python."
   ]
  },
  {
   "cell_type": "code",
   "execution_count": 3,
   "id": "cbf201f2-e86a-4a60-83cc-ed3e8ae2df7e",
   "metadata": {},
   "outputs": [
    {
     "data": {
      "text/plain": [
       "17"
      ]
     },
     "execution_count": 3,
     "metadata": {},
     "output_type": "execute_result"
    }
   ],
   "source": [
    "(3*4)+5"
   ]
  },
  {
   "cell_type": "code",
   "execution_count": 6,
   "id": "a6ad2682-ed93-4781-96e5-dc7c311f8ae8",
   "metadata": {},
   "outputs": [
    {
     "data": {
      "text/plain": [
       "3.3333333333333335"
      ]
     },
     "execution_count": 6,
     "metadata": {},
     "output_type": "execute_result"
    }
   ],
   "source": [
    "#This will convert minutes to hours by dividing by 60\n",
    "200/60"
   ]
  },
  {
   "cell_type": "code",
   "execution_count": null,
   "id": "8bac316e-4dbd-4a27-a5f7-107797dd4ea3",
   "metadata": {},
   "outputs": [],
   "source": []
  }
 ],
 "metadata": {
  "kernelspec": {
   "display_name": "Python 3 (ipykernel)",
   "language": "python",
   "name": "python3"
  },
  "language_info": {
   "codemirror_mode": {
    "name": "ipython",
    "version": 3
   },
   "file_extension": ".py",
   "mimetype": "text/x-python",
   "name": "python",
   "nbconvert_exporter": "python",
   "pygments_lexer": "ipython3",
   "version": "3.10.9"
  }
 },
 "nbformat": 4,
 "nbformat_minor": 5
}
